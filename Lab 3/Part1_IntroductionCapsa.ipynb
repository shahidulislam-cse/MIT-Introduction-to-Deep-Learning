{
  "cells": [
    {
      "cell_type": "markdown",
      "metadata": {
        "id": "SWa-rLfIlTaf"
      },
      "source": [
        "<table align=\"center\">\n",
        "  <td align=\"center\"><a target=\"_blank\" href=\"http://introtodeeplearning.com\">\n",
        "        <img src=\"https://i.ibb.co/Jr88sn2/mit.png\" style=\"padding-bottom:5px;\" />\n",
        "      Visit MIT Deep Learning</a></td>\n",
        "  <td align=\"center\"><a target=\"_blank\" href=\"https://colab.research.google.com/github/aamini/introtodeeplearning/blob/master/lab3/Part1_IntroductionCapsa.ipynb\">\n",
        "        <img src=\"https://i.ibb.co/2P3SLwK/colab.png\"  style=\"padding-bottom:5px;\" />Run in Google Colab</a></td>\n",
        "  <td align=\"center\"><a target=\"_blank\" href=\"https://github.com/aamini/introtodeeplearning/blob/master/lab3/Part1_IntroductionCapsa.ipynb\">\n",
        "        <img src=\"https://i.ibb.co/xfJbPmL/github.png\"  height=\"70px\" style=\"padding-bottom:5px;\"  />View Source on GitHub</a></td>\n",
        "</table>\n",
        "\n",
        "# Copyright Information"
      ]
    },
    {
      "cell_type": "code",
      "execution_count": 1,
      "metadata": {
        "id": "-LohleBMlahL"
      },
      "outputs": [],
      "source": [
        "# Copyright 2023 MIT Introduction to Deep Learning. All Rights Reserved.\n",
        "# \n",
        "# Licensed under the MIT License. You may not use this file except in compliance\n",
        "# with the License. Use and/or modification of this code outside of MIT Introduction\n",
        "# to Deep Learning must reference:\n",
        "#\n",
        "# © MIT Introduction to Deep Learning\n",
        "# http://introtodeeplearning.com\n",
        "#"
      ]
    },
    {
      "cell_type": "markdown",
      "metadata": {
        "id": "ckzz5Hus-hJB"
      },
      "source": [
        "# Laboratory 3: Debiasing, Uncertainty, and Robustness\n",
        "\n",
        "# Part 1: Introduction to Capsa\n",
        "\n",
        "In this lab, we'll explore different ways to make deep learning models more **robust** and **trustworthy**.\n",
        "\n",
        "To achieve this it is critical to be able to identify and diagnose issues of bias and uncertainty in deep learning models, as we explored in the Facial Detection Lab 2. We need benchmarks that uniformly measure how uncertain a given model is, and we need principled ways of measuring bias and uncertainty. To that end, in this lab, we'll utilize [Capsa](https://github.com/themis-ai/capsa), a risk-estimation wrapping library developed by [Themis AI](https://themisai.io/). Capsa supports the estimation of three different types of ***risk***, defined as measures of how robust and trustworthy our model is. These are:\n",
        "1. **Representation bias**: reflects how likely combinations of features are to appear in a given dataset. Often, certain combinations of features are severely under-represented in datasets, which means models learn them less well and can thus lead to unwanted bias.\n",
        "2. **Data uncertainty**: reflects noise in the data, for example when sensors have noisy measurements, classes in datasets have low separations, and generally when very similar inputs lead to drastically different outputs. Also known as *aleatoric* uncertainty. \n",
        "3. **Model uncertainty**: captures the areas of our underlying data distribution that the model has not yet learned or has difficulty learning. Areas of high model uncertainty can be due to out-of-distribution (OOD) samples or data that is harder to learn. Also known as *epistemic* uncertainty."
      ]
    },
    {
      "cell_type": "markdown",
      "metadata": {
        "id": "o02MyoDrnNqP"
      },
      "source": [
        "## CAPSA overview\n",
        "\n",
        "This lab introduces Capsa and its functionalities, to next build automated tools that use Capsa to mitigate the underlying issues of bias and uncertainty.\n",
        "\n",
        "The core idea behind [Capsa](https://themisai.io/capsa/) is that any deep learning model of interest can be ***wrapped*** -- just like wrapping a gift -- to be made ***aware of its own risks***. Risk is captured in representation bias, data uncertainty, and model uncertainty.\n",
        "\n",
        "![alt text](https://raw.githubusercontent.com/aamini/introtodeeplearning/2023/lab3/img/capsa_overview.png)\n",
        "\n",
        "This means that Capsa takes the user's original model as input, and modifies it minimally to create a risk-aware variant while preserving the model's underlying structure and training pipeline. Capsa is a one-line addition to any training workflow in TensorFlow. In this part of the lab, we'll apply Capsa's risk estimation methods to a simple regression problem to further explore the notions of bias and uncertainty. \n",
        "\n",
        "Please refer to [Capsa's documentation](https://themisai.io/capsa/) for additional details."
      ]
    },
    {
      "cell_type": "markdown",
      "metadata": {
        "id": "hF0uSqk-nwmA"
      },
      "source": [
        "Let's get started by installing the necessary dependencies:"
      ]
    },
    {
      "cell_type": "code",
      "execution_count": 2,
      "metadata": {
        "id": "NdXF4Reyj6yy",
        "colab": {
          "base_uri": "https://localhost:8080/"
        },
        "outputId": "7a1c7b54-3707-455b-a400-a6420f60f5ee"
      },
      "outputs": [
        {
          "output_type": "stream",
          "name": "stdout",
          "text": [
            "Colab only includes TensorFlow 2.x; %tensorflow_version has no effect.\n",
            "Looking in indexes: https://pypi.org/simple, https://us-python.pkg.dev/colab-wheels/public/simple/\n",
            "Collecting mitdeeplearning\n",
            "  Downloading mitdeeplearning-0.3.0.tar.gz (2.1 MB)\n",
            "\u001b[2K     \u001b[90m━━━━━━━━━━━━━━━━━━━━━━━━━━━━━━━━━━━━━━━━\u001b[0m \u001b[32m2.1/2.1 MB\u001b[0m \u001b[31m27.7 MB/s\u001b[0m eta \u001b[36m0:00:00\u001b[0m\n",
            "\u001b[?25h  Preparing metadata (setup.py) ... \u001b[?25l\u001b[?25hdone\n",
            "Requirement already satisfied: numpy in /usr/local/lib/python3.9/dist-packages (from mitdeeplearning) (1.22.4)\n",
            "Requirement already satisfied: regex in /usr/local/lib/python3.9/dist-packages (from mitdeeplearning) (2022.10.31)\n",
            "Requirement already satisfied: tqdm in /usr/local/lib/python3.9/dist-packages (from mitdeeplearning) (4.65.0)\n",
            "Requirement already satisfied: gym in /usr/local/lib/python3.9/dist-packages (from mitdeeplearning) (0.25.2)\n",
            "Requirement already satisfied: importlib-metadata>=4.8.0 in /usr/local/lib/python3.9/dist-packages (from gym->mitdeeplearning) (6.0.0)\n",
            "Requirement already satisfied: cloudpickle>=1.2.0 in /usr/local/lib/python3.9/dist-packages (from gym->mitdeeplearning) (2.2.1)\n",
            "Requirement already satisfied: gym-notices>=0.0.4 in /usr/local/lib/python3.9/dist-packages (from gym->mitdeeplearning) (0.0.8)\n",
            "Requirement already satisfied: zipp>=0.5 in /usr/local/lib/python3.9/dist-packages (from importlib-metadata>=4.8.0->gym->mitdeeplearning) (3.15.0)\n",
            "Building wheels for collected packages: mitdeeplearning\n",
            "  Building wheel for mitdeeplearning (setup.py) ... \u001b[?25l\u001b[?25hdone\n",
            "  Created wheel for mitdeeplearning: filename=mitdeeplearning-0.3.0-py3-none-any.whl size=2117316 sha256=71f76d48db0f030898c458ce46280fb77c0dffb4e1951ade9caa76d1429350e9\n",
            "  Stored in directory: /root/.cache/pip/wheels/fb/36/e6/2c0d1df845f0cc8152c7a32b3663af9b03a79400a975a12aff\n",
            "Successfully built mitdeeplearning\n",
            "Installing collected packages: mitdeeplearning\n",
            "Successfully installed mitdeeplearning-0.3.0\n",
            "Looking in indexes: https://pypi.org/simple, https://us-python.pkg.dev/colab-wheels/public/simple/\n",
            "Collecting capsa\n",
            "  Downloading capsa-0.1.4.tar.gz (48 kB)\n",
            "\u001b[2K     \u001b[90m━━━━━━━━━━━━━━━━━━━━━━━━━━━━━━━━━━━━━━━━\u001b[0m \u001b[32m48.1/48.1 KB\u001b[0m \u001b[31m3.0 MB/s\u001b[0m eta \u001b[36m0:00:00\u001b[0m\n",
            "\u001b[?25h  Preparing metadata (setup.py) ... \u001b[?25l\u001b[?25hdone\n",
            "Building wheels for collected packages: capsa\n",
            "  Building wheel for capsa (setup.py) ... \u001b[?25l\u001b[?25hdone\n",
            "  Created wheel for capsa: filename=capsa-0.1.4-py3-none-any.whl size=48864 sha256=15051318b55ea51fe1fd99948f7b650cbc57e0752d3a41288f82578cf1e72efe\n",
            "  Stored in directory: /root/.cache/pip/wheels/54/31/69/81c08a4918b176d9e61b7d7ef771993a628982c77e0abb6f7d\n",
            "Successfully built capsa\n",
            "Installing collected packages: capsa\n",
            "Successfully installed capsa-0.1.4\n"
          ]
        }
      ],
      "source": [
        "# Import Tensorflow 2.0\n",
        "%tensorflow_version 2.x\n",
        "import tensorflow as tf\n",
        "\n",
        "import IPython\n",
        "import functools\n",
        "import matplotlib.pyplot as plt\n",
        "import numpy as np\n",
        "from tqdm import tqdm\n",
        "\n",
        "# Download and import the MIT Introduction to Deep Learning package\n",
        "!pip install mitdeeplearning\n",
        "import mitdeeplearning as mdl\n",
        "\n",
        "# Download and import Capsa\n",
        "!pip install capsa\n",
        "import capsa"
      ]
    },
    {
      "cell_type": "markdown",
      "metadata": {
        "id": "xzEcxjKHn8gc"
      },
      "source": [
        "## 1.1 Dataset\n",
        "\n",
        "We will build understanding of bias and uncertainty by training a neural network for a simple 2D regression task: modeling the function $y = x^3$. We will use Capsa to analyze this dataset and the performance of the model. Noise and missing-ness will be injected into the dataset.\n",
        "\n",
        "Let's generate the dataset and visualize it:"
      ]
    },
    {
      "cell_type": "code",
      "execution_count": 3,
      "metadata": {
        "id": "fH40EhC1j9dH",
        "colab": {
          "base_uri": "https://localhost:8080/",
          "height": 391
        },
        "outputId": "e3e02244-d64c-4b52-c70f-af2412bd52bf"
      },
      "outputs": [
        {
          "output_type": "execute_result",
          "data": {
            "text/plain": [
              "<matplotlib.legend.Legend at 0x7f1f05e568b0>"
            ]
          },
          "metadata": {},
          "execution_count": 3
        },
        {
          "output_type": "display_data",
          "data": {
            "text/plain": [
              "<Figure size 720x432 with 1 Axes>"
            ],
            "image/png": "[encoded data removed]"
          },
          "metadata": {
            "needs_background": "light"
          }
        }
      ],
      "source": [
        "# Get the data for the cubic function, injected with noise and missing-ness\n",
        "# This is just a toy dataset that we can use to test some of the wrappers on\n",
        "def gen_data(x_min, x_max, n, train=True):\n",
        "  if train: \n",
        "    x = np.random.triangular(x_min, 2, x_max, size=(n, 1))\n",
        "  else: \n",
        "    x = np.linspace(x_min, x_max, n).reshape(n, 1)\n",
        "\n",
        "  sigma = 2*np.exp(-(x+1)**2/1) + 0.2 if train else np.zeros_like(x)\n",
        "  y = x**3/6 + np.random.normal(0, sigma).astype(np.float32)\n",
        "\n",
        "  return x, y\n",
        "\n",
        "# Plot the dataset and visualize the train and test datapoints\n",
        "x_train, y_train = gen_data(-4, 4, 2000, train=True) # train data\n",
        "x_test, y_test = gen_data(-6, 6, 500, train=False) # test data\n",
        "\n",
        "plt.figure(figsize=(10, 6))\n",
        "plt.plot(x_test, y_test, c='r', zorder=-1, label='ground truth')\n",
        "plt.scatter(x_train, y_train, s=1.5, label='train data')\n",
        "plt.legend()"
      ]
    },
    {
      "cell_type": "markdown",
      "metadata": {
        "id": "Fz3UxT8vuN95"
      },
      "source": [
        "In the plot above, the blue points are the training data, which will be used as inputs to train the neural network model. The red line is the ground truth data, which will be used to evaluate the performance of the model.\n",
        "\n",
        "#### **TODO: Inspecting the 2D regression dataset**\n",
        "\n",
        " Write short (~1 sentence) answers to the questions below to complete the `TODO`s:\n",
        "\n",
        "1. What are your observations about where the train data and test data lie relative to each other?\n",
        "2. What, if any, areas do you expect to have high/low aleatoric (data) uncertainty?\n",
        "3. What, if any, areas do you expect to have high/low epistemic (model) uncertainty?"
      ]
    },
    {
      "cell_type": "markdown",
      "metadata": {
        "id": "mXMOYRHnv8tF"
      },
      "source": [
        "## 1.2 Regression on cubic dataset\n",
        "\n",
        "Next we will define a small dense neural network model that can predict `y` given `x`: this is a classical regression task! We will build the model and use the [`model.fit()`](https://www.tensorflow.org/api_docs/python/tf/keras/Model#fit) function to train the model -- normally, without any risk-awareness -- using the train dataset that we visualized above."
      ]
    },
    {
      "cell_type": "code",
      "execution_count": 4,
      "metadata": {
        "id": "7p1XwfZVuB68",
        "colab": {
          "base_uri": "https://localhost:8080/"
        },
        "outputId": "c936c1c5-b6ec-4200-9545-5106c044906a"
      },
      "outputs": [
        {
          "output_type": "stream",
          "name": "stdout",
          "text": [
            "Epoch 1/30\n",
            "63/63 [==============================] - 2s 3ms/step - loss: 3.1169\n",
            "Epoch 2/30\n",
            "63/63 [==============================] - 0s 2ms/step - loss: 1.4185\n",
            "Epoch 3/30\n",
            "63/63 [==============================] - 0s 2ms/step - loss: 1.0459\n",
            "Epoch 4/30\n",
            "63/63 [==============================] - 0s 2ms/step - loss: 0.9943\n",
            "Epoch 5/30\n",
            "63/63 [==============================] - 0s 2ms/step - loss: 0.9883\n",
            "Epoch 6/30\n",
            "63/63 [==============================] - 0s 2ms/step - loss: 0.9808\n",
            "Epoch 7/30\n",
            "63/63 [==============================] - 0s 2ms/step - loss: 0.9783\n",
            "Epoch 8/30\n",
            "63/63 [==============================] - 0s 2ms/step - loss: 0.9717\n",
            "Epoch 9/30\n",
            "63/63 [==============================] - 0s 2ms/step - loss: 0.9816\n",
            "Epoch 10/30\n",
            "63/63 [==============================] - 0s 2ms/step - loss: 0.9698\n",
            "Epoch 11/30\n",
            "63/63 [==============================] - 0s 2ms/step - loss: 0.9656\n",
            "Epoch 12/30\n",
            "63/63 [==============================] - 0s 2ms/step - loss: 0.9648\n",
            "Epoch 13/30\n",
            "63/63 [==============================] - 0s 3ms/step - loss: 0.9649\n",
            "Epoch 14/30\n",
            "63/63 [==============================] - 0s 2ms/step - loss: 0.9760\n",
            "Epoch 15/30\n",
            "63/63 [==============================] - 0s 2ms/step - loss: 0.9736\n",
            "Epoch 16/30\n",
            "63/63 [==============================] - 0s 2ms/step - loss: 0.9727\n",
            "Epoch 17/30\n",
            "63/63 [==============================] - 0s 2ms/step - loss: 0.9633\n",
            "Epoch 18/30\n",
            "63/63 [==============================] - 0s 3ms/step - loss: 0.9637\n",
            "Epoch 19/30\n",
            "63/63 [==============================] - 0s 3ms/step - loss: 0.9987\n",
            "Epoch 20/30\n",
            "63/63 [==============================] - 0s 4ms/step - loss: 0.9752\n",
            "Epoch 21/30\n",
            "63/63 [==============================] - 0s 3ms/step - loss: 0.9738\n",
            "Epoch 22/30\n",
            "63/63 [==============================] - 0s 4ms/step - loss: 0.9793\n",
            "Epoch 23/30\n",
            "63/63 [==============================] - 0s 3ms/step - loss: 0.9653\n",
            "Epoch 24/30\n",
            "63/63 [==============================] - 0s 3ms/step - loss: 0.9677\n",
            "Epoch 25/30\n",
            "63/63 [==============================] - 0s 4ms/step - loss: 0.9813\n",
            "Epoch 26/30\n",
            "63/63 [==============================] - 0s 4ms/step - loss: 0.9618\n",
            "Epoch 27/30\n",
            "63/63 [==============================] - 0s 2ms/step - loss: 0.9621\n",
            "Epoch 28/30\n",
            "63/63 [==============================] - 0s 2ms/step - loss: 0.9644\n",
            "Epoch 29/30\n",
            "63/63 [==============================] - 0s 2ms/step - loss: 0.9603\n",
            "Epoch 30/30\n",
            "63/63 [==============================] - 0s 3ms/step - loss: 0.9581\n"
          ]
        }
      ],
      "source": [
        "### Define and train a dense NN model for the regression task###\n",
        "\n",
        "'''Function to define a small dense NN'''\n",
        "def create_dense_NN():\n",
        "  return tf.keras.Sequential(\n",
        "          [\n",
        "              tf.keras.Input(shape=(1,)),\n",
        "              tf.keras.layers.Dense(32, \"relu\"),\n",
        "              tf.keras.layers.Dense(32, \"relu\"),\n",
        "              tf.keras.layers.Dense(32, \"relu\"),\n",
        "              tf.keras.layers.Dense(1),\n",
        "          ]\n",
        "  )\n",
        "\n",
        "dense_NN = create_dense_NN()\n",
        "\n",
        "# Build the model for regression, defining the loss function and optimizer\n",
        "dense_NN.compile(\n",
        "  optimizer=tf.keras.optimizers.Adam(learning_rate=5e-3),\n",
        "  loss=tf.keras.losses.MeanSquaredError(), # MSE loss for the regression task\n",
        ")\n",
        "\n",
        "# Train the model for 30 epochs using model.fit().\n",
        "loss_history = dense_NN.fit(x_train, y_train, epochs=30)"
      ]
    },
    {
      "cell_type": "markdown",
      "metadata": {
        "id": "ovwYBUG3wTDv"
      },
      "source": [
        "Now, we are ready to evaluate our neural network. We use the test data to assess performance on the regression task, and visualize the predicted values against the true values.\n",
        "\n",
        "Given your observation of the data in the previous plot, where do you expect the model to perform well? Let's test the model and see:"
      ]
    },
    {
      "cell_type": "code",
      "execution_count": 5,
      "metadata": {
        "id": "fb-EklZywR4D",
        "colab": {
          "base_uri": "https://localhost:8080/",
          "height": 409
        },
        "outputId": "a7c099fc-bc4d-49b7-ebba-0f9ff02622ab"
      },
      "outputs": [
        {
          "output_type": "stream",
          "name": "stdout",
          "text": [
            "16/16 [==============================] - 0s 1ms/step\n"
          ]
        },
        {
          "output_type": "execute_result",
          "data": {
            "text/plain": [
              "<matplotlib.legend.Legend at 0x7f1f004bec10>"
            ]
          },
          "metadata": {},
          "execution_count": 5
        },
        {
          "output_type": "display_data",
          "data": {
            "text/plain": [
              "<Figure size 720x432 with 1 Axes>"
            ],
            "image/png": "[encoded data removed]"
          },
          "metadata": {
            "needs_background": "light"
          }
        }
      ],
      "source": [
        "# Pass the test data through the network and predict the y values\n",
        "y_predicted = dense_NN.predict(x_test)\n",
        "\n",
        "# Visualize the true (x, y) pairs for the test data vs. the predicted values\n",
        "plt.figure(figsize=(10, 6))\n",
        "plt.scatter(x_train, y_train, s=1.5, label='train data')\n",
        "plt.plot(x_test, y_test, c='r', zorder=-1, label='ground truth')\n",
        "plt.plot(x_test, y_predicted, c='b', zorder=0, label='predicted')\n",
        "plt.legend()"
      ]
    },
    {
      "cell_type": "markdown",
      "metadata": {
        "id": "7Vktjwfu0ReH"
      },
      "source": [
        "\n",
        "#### **TODO: Analyzing the performance of standard regression model**\n",
        "\n",
        "Write short (~1 sentence) answers to the questions below to complete the `TODO`s:\n",
        "\n",
        "1. Where does the model perform well?\n",
        "2. Where does the model perform poorly?"
      ]
    },
    {
      "cell_type": "markdown",
      "metadata": {
        "id": "7MzvM48JyZMO"
      },
      "source": [
        "## 1.3 Evaluating bias\n",
        "\n",
        "Now that we've seen what the predictions from this model look like, we will identify and quantify bias and uncertainty in this problem. We first consider bias.\n",
        "\n",
        "Recall that *representation bias* reflects how likely combinations of features are to appear in a given dataset. Capsa calculates how likely combinations of features are by using a histogram estimation approach: the `capsa.HistogramWrapper`. For low-dimensional data, the `capsa.HistogramWrapper` bins the input directly into discrete categories and measures the density. More details of the `HistogramWrapper` and how it can be used are [available here](https://themisai.io/capsa/api_documentation/HistogramWrapper.html).\n",
        "\n",
        "We start by taking our `dense_NN` and wrapping it with the `capsa.HistogramWrapper`:"
      ]
    },
    {
      "cell_type": "code",
      "execution_count": 6,
      "metadata": {
        "id": "AVv-knsCwOp9"
      },
      "outputs": [],
      "source": [
        "### Wrap the dense network for bias estimation ###\n",
        "\n",
        "standard_dense_NN = create_dense_NN()\n",
        "bias_wrapped_dense_NN = capsa.HistogramWrapper(\n",
        "    standard_dense_NN, # the original model\n",
        "    num_bins=20,\n",
        "    queue_size=2000, # how many samples to track\n",
        "    target_hidden_layer=False # for low-dimensional data (like this dataset), we can estimate biases directly from data\n",
        ")"
      ]
    },
    {
      "cell_type": "markdown",
      "metadata": {
        "id": "UFHO7LKcz8uP"
      },
      "source": [
        "Now that we've wrapped the classifier, let's re-train it to update the bias estimates as we train. We can use the exact same training pipeline, using `compile` to build the model and `model.fit()` to train the model:"
      ]
    },
    {
      "cell_type": "code",
      "execution_count": 7,
      "metadata": {
        "id": "SkyD3rsqy2ff",
        "colab": {
          "base_uri": "https://localhost:8080/"
        },
        "outputId": "b6466912-f719-4ab1-8202-c3ef41b2027c"
      },
      "outputs": [
        {
          "output_type": "stream",
          "name": "stdout",
          "text": [
            "Epoch 1/30\n"
          ]
        },
        {
          "output_type": "stream",
          "name": "stderr",
          "text": [
            "WARNING:tensorflow:Gradients do not exist for variables ['dense_7/kernel:0', 'dense_7/bias:0'] when minimizing the loss. If you're using `model.compile()`, did you forget to provide a `loss` argument?\n",
            "WARNING:tensorflow:Gradients do not exist for variables ['dense_7/kernel:0', 'dense_7/bias:0'] when minimizing the loss. If you're using `model.compile()`, did you forget to provide a `loss` argument?\n",
            "WARNING:tensorflow:From /usr/local/lib/python3.9/dist-packages/tensorflow/python/autograph/pyct/static_analysis/liveness.py:83: Analyzer.lamba_check (from tensorflow.python.autograph.pyct.static_analysis.liveness) is deprecated and will be removed after 2023-09-23.\n",
            "Instructions for updating:\n",
            "Lambda fuctions will be no more assumed to be used in the statement where they are used, or at least in the same block. https://github.com/tensorflow/tensorflow/issues/56089\n",
            "WARNING:tensorflow:Gradients do not exist for variables ['dense_7/kernel:0', 'dense_7/bias:0'] when minimizing the loss. If you're using `model.compile()`, did you forget to provide a `loss` argument?\n",
            "WARNING:tensorflow:Gradients do not exist for variables ['dense_7/kernel:0', 'dense_7/bias:0'] when minimizing the loss. If you're using `model.compile()`, did you forget to provide a `loss` argument?\n"
          ]
        },
        {
          "output_type": "stream",
          "name": "stdout",
          "text": [
            "63/63 [==============================] - 2s 1ms/step - histogram_compiled_loss: 4.3457 - histogram_wrapper_loss: 6.4100\n",
            "Epoch 2/30\n",
            "63/63 [==============================] - 0s 1ms/step - histogram_compiled_loss: 2.1679 - histogram_wrapper_loss: 3.8751\n",
            "Epoch 3/30\n",
            "63/63 [==============================] - 0s 2ms/step - histogram_compiled_loss: 1.6763 - histogram_wrapper_loss: 2.9581\n",
            "Epoch 4/30\n",
            "63/63 [==============================] - 0s 1ms/step - histogram_compiled_loss: 1.1941 - histogram_wrapper_loss: 2.3687\n",
            "Epoch 5/30\n",
            "63/63 [==============================] - 0s 1ms/step - histogram_compiled_loss: 0.9972 - histogram_wrapper_loss: 2.1076\n",
            "Epoch 6/30\n",
            "63/63 [==============================] - 0s 2ms/step - histogram_compiled_loss: 0.9173 - histogram_wrapper_loss: 2.0731\n",
            "Epoch 7/30\n",
            "63/63 [==============================] - 0s 1ms/step - histogram_compiled_loss: 0.9708 - histogram_wrapper_loss: 2.0524\n",
            "Epoch 8/30\n",
            "63/63 [==============================] - 0s 1ms/step - histogram_compiled_loss: 0.9136 - histogram_wrapper_loss: 2.0221\n",
            "Epoch 9/30\n",
            "63/63 [==============================] - 0s 1ms/step - histogram_compiled_loss: 1.0640 - histogram_wrapper_loss: 1.9778\n",
            "Epoch 10/30\n",
            "63/63 [==============================] - 0s 1ms/step - histogram_compiled_loss: 0.8899 - histogram_wrapper_loss: 1.9047\n",
            "Epoch 11/30\n",
            "63/63 [==============================] - 0s 1ms/step - histogram_compiled_loss: 1.0170 - histogram_wrapper_loss: 1.9263\n",
            "Epoch 12/30\n",
            "63/63 [==============================] - 0s 1ms/step - histogram_compiled_loss: 0.9780 - histogram_wrapper_loss: 1.8819\n",
            "Epoch 13/30\n",
            "63/63 [==============================] - 0s 2ms/step - histogram_compiled_loss: 0.8908 - histogram_wrapper_loss: 2.0144\n",
            "Epoch 14/30\n",
            "63/63 [==============================] - 0s 1ms/step - histogram_compiled_loss: 0.9901 - histogram_wrapper_loss: 1.9152\n",
            "Epoch 15/30\n",
            "63/63 [==============================] - 0s 1ms/step - histogram_compiled_loss: 0.9454 - histogram_wrapper_loss: 1.8809\n",
            "Epoch 16/30\n",
            "63/63 [==============================] - 0s 1ms/step - histogram_compiled_loss: 1.0110 - histogram_wrapper_loss: 1.9091\n",
            "Epoch 17/30\n",
            "63/63 [==============================] - 0s 2ms/step - histogram_compiled_loss: 0.8937 - histogram_wrapper_loss: 1.8935\n",
            "Epoch 18/30\n",
            "63/63 [==============================] - 0s 1ms/step - histogram_compiled_loss: 0.8863 - histogram_wrapper_loss: 1.8810\n",
            "Epoch 19/30\n",
            "63/63 [==============================] - 0s 1ms/step - histogram_compiled_loss: 0.8923 - histogram_wrapper_loss: 1.9395\n",
            "Epoch 20/30\n",
            "63/63 [==============================] - 0s 1ms/step - histogram_compiled_loss: 0.9464 - histogram_wrapper_loss: 1.9020\n",
            "Epoch 21/30\n",
            "63/63 [==============================] - 0s 1ms/step - histogram_compiled_loss: 0.9134 - histogram_wrapper_loss: 1.8821\n",
            "Epoch 22/30\n",
            "63/63 [==============================] - 0s 1ms/step - histogram_compiled_loss: 1.0045 - histogram_wrapper_loss: 1.8932\n",
            "Epoch 23/30\n",
            "63/63 [==============================] - 0s 1ms/step - histogram_compiled_loss: 0.9732 - histogram_wrapper_loss: 1.8802\n",
            "Epoch 24/30\n",
            "63/63 [==============================] - 0s 1ms/step - histogram_compiled_loss: 0.9909 - histogram_wrapper_loss: 1.9302\n",
            "Epoch 25/30\n",
            "63/63 [==============================] - 0s 1ms/step - histogram_compiled_loss: 0.9698 - histogram_wrapper_loss: 1.9105\n",
            "Epoch 26/30\n",
            "63/63 [==============================] - 0s 1ms/step - histogram_compiled_loss: 0.8828 - histogram_wrapper_loss: 1.8601\n",
            "Epoch 27/30\n",
            "63/63 [==============================] - 0s 1ms/step - histogram_compiled_loss: 1.0472 - histogram_wrapper_loss: 1.9217\n",
            "Epoch 28/30\n",
            "63/63 [==============================] - 0s 1ms/step - histogram_compiled_loss: 0.9894 - histogram_wrapper_loss: 1.9309\n",
            "Epoch 29/30\n",
            "63/63 [==============================] - 0s 1ms/step - histogram_compiled_loss: 1.1261 - histogram_wrapper_loss: 1.8959\n",
            "Epoch 30/30\n",
            "63/63 [==============================] - 0s 1ms/step - histogram_compiled_loss: 1.0261 - histogram_wrapper_loss: 1.8859\n",
            "Done training model with Bias Wrapper!\n"
          ]
        }
      ],
      "source": [
        "### Compile and train the wrapped model! ###\n",
        "\n",
        "# Build the model for regression, defining the loss function and optimizer\n",
        "bias_wrapped_dense_NN.compile(\n",
        "  optimizer=tf.keras.optimizers.Adam(learning_rate=2e-3),\n",
        "  loss=tf.keras.losses.MeanSquaredError(), # MSE loss for the regression task\n",
        ")\n",
        "\n",
        "# Train the wrapped model for 30 epochs.\n",
        "loss_history_bias_wrap = bias_wrapped_dense_NN.fit(x_train, y_train, epochs=30)\n",
        "\n",
        "print(\"Done training model with Bias Wrapper!\")"
      ]
    },
    {
      "cell_type": "markdown",
      "metadata": {
        "id": "_6iVeeqq0f_H"
      },
      "source": [
        "We can now use our wrapped model to assess the bias for a given test input. With the wrapping capability, Capsa neatly allows us to output a *bias score* along with the predicted target value. This bias score reflects the density of data surrounding an input point -- the higher the score, the greater the data representation and density. The wrapped, risk-aware model outputs the predicted target and bias score after it is called!\n",
        "\n",
        "Let's see how it is done:"
      ]
    },
    {
      "cell_type": "code",
      "execution_count": 8,
      "metadata": {
        "id": "tZ17eCbP0YM4",
        "colab": {
          "base_uri": "https://localhost:8080/",
          "height": 374
        },
        "outputId": "412a7132-1428-41e7-a176-820689318e73"
      },
      "outputs": [
        {
          "output_type": "display_data",
          "data": {
            "text/plain": [
              "<Figure size 576x432 with 2 Axes>"
            ],
            "image/png": "[encoded data removed]"
          },
          "metadata": {
            "needs_background": "light"
          }
        }
      ],
      "source": [
        "### Generate and visualize bias scores for data in test set ###\n",
        "\n",
        "# Call the risk-aware model to generate scores\n",
        "predictions, bias = bias_wrapped_dense_NN(x_test)\n",
        "\n",
        "# Visualize the relationship between the input data x and the bias\n",
        "fig, ax = plt.subplots(2, 1, figsize=(8,6))\n",
        "ax[0].plot(x_test, bias, label='bias')\n",
        "ax[0].set_ylabel('Estimated Bias')\n",
        "ax[0].legend()\n",
        "\n",
        "# Let's compare against the ground truth density distribution\n",
        "#   should roughly align with our estimated bias in this toy example\n",
        "ax[1].hist(x_train, 50, label='ground truth')\n",
        "ax[1].set_xlim(-6, 6)\n",
        "ax[1].set_ylabel('True Density')\n",
        "ax[1].legend();"
      ]
    },
    {
      "cell_type": "markdown",
      "metadata": {
        "id": "HpDMT_1FERQE"
      },
      "source": [
        "#### **TODO: Evaluating bias with wrapped regression model**\n",
        "\n",
        "Write short (~1 sentence) answers to the questions below to complete the `TODO`s:\n",
        "\n",
        "1. How does the bias score relate to the train/test data density from the first plot?\n",
        "2. What is one limitation of the Histogram approach that simply bins the data based on frequency?"
      ]
    },
    {
      "cell_type": "markdown",
      "metadata": {
        "id": "PvS8xR_q27Ec"
      },
      "source": [
        "# 1.4 Estimating data uncertainty\n",
        "\n",
        "Next we turn our attention to uncertainty, first focusing on the uncertainty in the data -- the aleatoric uncertainty.\n",
        "\n",
        "As introduced in Lecture 5 on Robust & Trustworthy Deep Learning, in regression we can estimate aleatoric uncertainty by training the model to predict both a target value and a variance for every input. Because we estimate both a mean and variance for every input, this method is called Mean Variance Estimation (MVE). MVE involves modifying the output layer to predict both the mean and variance, and changing the loss to reflect the prediction likelihood.\n",
        "\n",
        "Capsa automatically implements these changes for us: we can wrap a given model using `capsa.MVEWrapper` to use MVE to estimate aleatoric uncertainty. All we have to do is define the model and the loss function to evaluate its predictions! More details of the `MVEWrapper` and how it can be used are [available here](https://themisai.io/capsa/api_documentation/MVEWrapper.html).\n",
        "\n",
        "Let's take our standard network, wrap it with `capsa.MVEWrapper`, build the wrapped model, and then train it for the regression task. Finally, we evaluate performance of the resulting model by quantifying the aleatoric uncertainty across the data space: "
      ]
    },
    {
      "cell_type": "code",
      "execution_count": 9,
      "metadata": {
        "id": "sxmm-2sd3G9u",
        "colab": {
          "base_uri": "https://localhost:8080/"
        },
        "outputId": "41feeda7-f051-4826-fbb7-78c1730c11e4"
      },
      "outputs": [
        {
          "output_type": "stream",
          "name": "stdout",
          "text": [
            "Epoch 1/30\n"
          ]
        },
        {
          "output_type": "stream",
          "name": "stderr",
          "text": [
            "WARNING:tensorflow:Gradients do not exist for variables ['dense_11/kernel:0', 'dense_11/bias:0'] when minimizing the loss. If you're using `model.compile()`, did you forget to provide a `loss` argument?\n",
            "WARNING:tensorflow:Gradients do not exist for variables ['dense_11/kernel:0', 'dense_11/bias:0'] when minimizing the loss. If you're using `model.compile()`, did you forget to provide a `loss` argument?\n",
            "WARNING:tensorflow:Gradients do not exist for variables ['dense_11/kernel:0', 'dense_11/bias:0'] when minimizing the loss. If you're using `model.compile()`, did you forget to provide a `loss` argument?\n",
            "WARNING:tensorflow:Gradients do not exist for variables ['dense_11/kernel:0', 'dense_11/bias:0'] when minimizing the loss. If you're using `model.compile()`, did you forget to provide a `loss` argument?\n"
          ]
        },
        {
          "output_type": "stream",
          "name": "stdout",
          "text": [
            "63/63 [==============================] - 1s 1ms/step - mve_compiled_loss: 3.2944 - mve_wrapper_loss: 4.1123\n",
            "Epoch 2/30\n",
            "63/63 [==============================] - 0s 1ms/step - mve_compiled_loss: 1.3556 - mve_wrapper_loss: 1.9164\n",
            "Epoch 3/30\n",
            "63/63 [==============================] - 0s 1ms/step - mve_compiled_loss: 1.3810 - mve_wrapper_loss: 2.4330\n",
            "Epoch 4/30\n",
            "63/63 [==============================] - 0s 1ms/step - mve_compiled_loss: 1.0215 - mve_wrapper_loss: 1.1969\n",
            "Epoch 5/30\n",
            "63/63 [==============================] - 0s 1ms/step - mve_compiled_loss: 0.9766 - mve_wrapper_loss: 0.6964\n",
            "Epoch 6/30\n",
            "63/63 [==============================] - 0s 1ms/step - mve_compiled_loss: 1.1341 - mve_wrapper_loss: 0.6023\n",
            "Epoch 7/30\n",
            "63/63 [==============================] - 0s 1ms/step - mve_compiled_loss: 0.9502 - mve_wrapper_loss: 0.5273\n",
            "Epoch 8/30\n",
            "63/63 [==============================] - 0s 1ms/step - mve_compiled_loss: 1.0536 - mve_wrapper_loss: 0.7872\n",
            "Epoch 9/30\n",
            "63/63 [==============================] - 0s 1ms/step - mve_compiled_loss: 1.0254 - mve_wrapper_loss: 0.6499\n",
            "Epoch 10/30\n",
            "63/63 [==============================] - 0s 1ms/step - mve_compiled_loss: 0.9693 - mve_wrapper_loss: 0.6246\n",
            "Epoch 11/30\n",
            "63/63 [==============================] - 0s 1ms/step - mve_compiled_loss: 1.1082 - mve_wrapper_loss: 0.6314\n",
            "Epoch 12/30\n",
            "63/63 [==============================] - 0s 1ms/step - mve_compiled_loss: 0.9467 - mve_wrapper_loss: 0.6444\n",
            "Epoch 13/30\n",
            "63/63 [==============================] - 0s 1ms/step - mve_compiled_loss: 0.9193 - mve_wrapper_loss: 0.4634\n",
            "Epoch 14/30\n",
            "63/63 [==============================] - 0s 1ms/step - mve_compiled_loss: 0.9777 - mve_wrapper_loss: 0.5797\n",
            "Epoch 15/30\n",
            "63/63 [==============================] - 0s 1ms/step - mve_compiled_loss: 0.9931 - mve_wrapper_loss: 0.7299\n",
            "Epoch 16/30\n",
            "63/63 [==============================] - 0s 1ms/step - mve_compiled_loss: 0.8605 - mve_wrapper_loss: 0.5867\n",
            "Epoch 17/30\n",
            "63/63 [==============================] - 0s 1ms/step - mve_compiled_loss: 0.9590 - mve_wrapper_loss: 0.4611\n",
            "Epoch 18/30\n",
            "63/63 [==============================] - 0s 1ms/step - mve_compiled_loss: 1.0437 - mve_wrapper_loss: 0.4740\n",
            "Epoch 19/30\n",
            "63/63 [==============================] - 0s 1ms/step - mve_compiled_loss: 1.0056 - mve_wrapper_loss: 0.4428\n",
            "Epoch 20/30\n",
            "63/63 [==============================] - 0s 1ms/step - mve_compiled_loss: 1.0706 - mve_wrapper_loss: 0.5261\n",
            "Epoch 21/30\n",
            "63/63 [==============================] - 0s 1ms/step - mve_compiled_loss: 1.0396 - mve_wrapper_loss: 0.4967\n",
            "Epoch 22/30\n",
            "63/63 [==============================] - 0s 1ms/step - mve_compiled_loss: 1.0244 - mve_wrapper_loss: 0.5818\n",
            "Epoch 23/30\n",
            "63/63 [==============================] - 0s 1ms/step - mve_compiled_loss: 0.9894 - mve_wrapper_loss: 0.4844\n",
            "Epoch 24/30\n",
            "63/63 [==============================] - 0s 1ms/step - mve_compiled_loss: 0.9841 - mve_wrapper_loss: 0.4566\n",
            "Epoch 25/30\n",
            "63/63 [==============================] - 0s 1ms/step - mve_compiled_loss: 0.9327 - mve_wrapper_loss: 0.4655\n",
            "Epoch 26/30\n",
            "63/63 [==============================] - 0s 1ms/step - mve_compiled_loss: 0.9632 - mve_wrapper_loss: 0.5052\n",
            "Epoch 27/30\n",
            "63/63 [==============================] - 0s 1ms/step - mve_compiled_loss: 1.0401 - mve_wrapper_loss: 0.6687\n",
            "Epoch 28/30\n",
            "63/63 [==============================] - 0s 1ms/step - mve_compiled_loss: 0.8753 - mve_wrapper_loss: 0.5436\n",
            "Epoch 29/30\n",
            "63/63 [==============================] - 0s 1ms/step - mve_compiled_loss: 0.9661 - mve_wrapper_loss: 0.5470\n",
            "Epoch 30/30\n",
            "63/63 [==============================] - 0s 1ms/step - mve_compiled_loss: 0.9459 - mve_wrapper_loss: 0.4505\n"
          ]
        }
      ],
      "source": [
        "### Estimating data uncertainty with Capsa wrapping ###\n",
        "\n",
        "standard_dense_NN = create_dense_NN()\n",
        "# Wrap the dense network for aleatoric uncertainty estimation\n",
        "mve_wrapped_NN = capsa.MVEWrapper(standard_dense_NN)\n",
        "\n",
        "# Build the model for regression, defining the loss function and optimizer\n",
        "mve_wrapped_NN.compile(\n",
        "  optimizer=tf.keras.optimizers.Adam(learning_rate=1e-2),\n",
        "  loss=tf.keras.losses.MeanSquaredError(), # MSE loss for the regression task\n",
        ")\n",
        "\n",
        "# Train the wrapped model for 30 epochs.\n",
        "loss_history_mve_wrap = mve_wrapped_NN.fit(x_train, y_train, epochs=30)\n",
        "\n",
        "# Call the uncertainty-aware model to generate outputs for the test data\n",
        "x_test_clipped = np.clip(x_test, x_train.min(), x_train.max())\n",
        "prediction = mve_wrapped_NN(x_test_clipped)"
      ]
    },
    {
      "cell_type": "code",
      "execution_count": null,
      "metadata": {
        "id": "dT2Rx8JCg3NR"
      },
      "outputs": [],
      "source": [
        "# Capsa makes the aleatoric uncertainty an attribute of the prediction!\n",
        "pred = np.array(prediction.y_hat).flatten()\n",
        "unc = np.sqrt(prediction.aleatoric).flatten() # out.aleatoric is the predicted variance\n",
        "\n",
        "# Visualize the aleatoric uncertainty across the data space\n",
        "plt.figure(figsize=(10, 6))\n",
        "plt.scatter(x_train, y_train, s=1.5, label='train data')\n",
        "plt.plot(x_test, y_test, c='r', zorder=-1, label='ground truth')\n",
        "plt.fill_between(x_test_clipped.flatten(), pred-2*unc, pred+2*unc, \n",
        "                 color='b', alpha=0.2, label='aleatoric')\n",
        "plt.legend()"
      ]
    },
    {
      "cell_type": "markdown",
      "metadata": {
        "id": "ZFeArgRX9U9s"
      },
      "source": [
        "#### **TODO: Estimating aleatoric uncertainty**\n",
        "\n",
        "Write short (~1 sentence) answers to the questions below to complete the `TODO`s:\n",
        "\n",
        "1. For what values of $x$ is the aleatoric uncertainty high or increasing suddenly?\n",
        "2. How does your answer in (1) relate to how the $x$ values are distributed?"
      ]
    },
    {
      "cell_type": "markdown",
      "metadata": {
        "id": "6FC5WPRT5lAb"
      },
      "source": [
        "# 1.5 Estimating model uncertainty\n",
        "\n",
        "Finally, we use Capsa for estimating the uncertainty underlying the model predictions -- the epistemic uncertainty. In this example, we'll use ensembles, which essentially copy the model `N` times and average predictions across all runs for a more robust prediction, and also calculate the variance of the `N` runs to estimate the uncertainty.\n",
        "\n",
        "Capsa provides a neat wrapper, `capsa.EnsembleWrapper`, to make an ensemble from an input model. Just like with aleatoric estimation, we can take our standard dense network model, wrap it with `capsa.EnsembleWrapper`, build the wrapped model, and then train it for the regression task. More details of the `EnsembleWrapper` and how it can be used are [available here](https://themisai.io/capsa/api_documentation/EnsembleWrapper.html).\n",
        "\n",
        "Finally, we evaluate the resulting model by quantifying the epistemic uncertainty on the test data:"
      ]
    },
    {
      "cell_type": "code",
      "execution_count": 10,
      "metadata": {
        "id": "SuRlhq2c5Fob",
        "colab": {
          "base_uri": "https://localhost:8080/"
        },
        "outputId": "c1b45a74-0efc-4b7a-df95-4b5936185ad6"
      },
      "outputs": [
        {
          "output_type": "stream",
          "name": "stdout",
          "text": [
            "Epoch 1/30\n",
            "63/63 [==============================] - 2s 2ms/step - usermodel_0_compiled_loss: 4.2849 - usermodel_1_compiled_loss: 3.9749 - usermodel_2_compiled_loss: 3.4850\n",
            "Epoch 2/30\n",
            "63/63 [==============================] - 0s 2ms/step - usermodel_0_compiled_loss: 2.8040 - usermodel_1_compiled_loss: 2.5806 - usermodel_2_compiled_loss: 2.3525\n",
            "Epoch 3/30\n",
            "63/63 [==============================] - 0s 2ms/step - usermodel_0_compiled_loss: 2.2747 - usermodel_1_compiled_loss: 2.0653 - usermodel_2_compiled_loss: 1.9328\n",
            "Epoch 4/30\n",
            "63/63 [==============================] - 0s 2ms/step - usermodel_0_compiled_loss: 1.9534 - usermodel_1_compiled_loss: 1.7919 - usermodel_2_compiled_loss: 1.6991\n",
            "Epoch 5/30\n",
            "63/63 [==============================] - 0s 2ms/step - usermodel_0_compiled_loss: 1.7387 - usermodel_1_compiled_loss: 1.6141 - usermodel_2_compiled_loss: 1.5396\n",
            "Epoch 6/30\n",
            "63/63 [==============================] - 0s 2ms/step - usermodel_0_compiled_loss: 1.6039 - usermodel_1_compiled_loss: 1.5044 - usermodel_2_compiled_loss: 1.4404\n",
            "Epoch 7/30\n",
            "63/63 [==============================] - 0s 2ms/step - usermodel_0_compiled_loss: 1.5078 - usermodel_1_compiled_loss: 1.4239 - usermodel_2_compiled_loss: 1.3685\n",
            "Epoch 8/30\n",
            "63/63 [==============================] - 0s 2ms/step - usermodel_0_compiled_loss: 1.4298 - usermodel_1_compiled_loss: 1.3591 - usermodel_2_compiled_loss: 1.3096\n",
            "Epoch 9/30\n",
            "63/63 [==============================] - 0s 2ms/step - usermodel_0_compiled_loss: 1.3899 - usermodel_1_compiled_loss: 1.3284 - usermodel_2_compiled_loss: 1.2834\n",
            "Epoch 10/30\n",
            "63/63 [==============================] - 0s 2ms/step - usermodel_0_compiled_loss: 1.3391 - usermodel_1_compiled_loss: 1.2846 - usermodel_2_compiled_loss: 1.2439\n",
            "Epoch 11/30\n",
            "63/63 [==============================] - 0s 2ms/step - usermodel_0_compiled_loss: 1.3046 - usermodel_1_compiled_loss: 1.2560 - usermodel_2_compiled_loss: 1.2184\n",
            "Epoch 12/30\n",
            "63/63 [==============================] - 0s 2ms/step - usermodel_0_compiled_loss: 1.2754 - usermodel_1_compiled_loss: 1.2318 - usermodel_2_compiled_loss: 1.1969\n",
            "Epoch 13/30\n",
            "63/63 [==============================] - 0s 2ms/step - usermodel_0_compiled_loss: 1.2489 - usermodel_1_compiled_loss: 1.2095 - usermodel_2_compiled_loss: 1.1767\n",
            "Epoch 14/30\n",
            "63/63 [==============================] - 0s 2ms/step - usermodel_0_compiled_loss: 1.2306 - usermodel_1_compiled_loss: 1.1944 - usermodel_2_compiled_loss: 1.1637\n",
            "Epoch 15/30\n",
            "63/63 [==============================] - 0s 2ms/step - usermodel_0_compiled_loss: 1.2100 - usermodel_1_compiled_loss: 1.1766 - usermodel_2_compiled_loss: 1.1477\n",
            "Epoch 16/30\n",
            "63/63 [==============================] - 0s 2ms/step - usermodel_0_compiled_loss: 1.1949 - usermodel_1_compiled_loss: 1.1639 - usermodel_2_compiled_loss: 1.1367\n",
            "Epoch 17/30\n",
            "63/63 [==============================] - 0s 2ms/step - usermodel_0_compiled_loss: 1.1796 - usermodel_1_compiled_loss: 1.1507 - usermodel_2_compiled_loss: 1.1251\n",
            "Epoch 18/30\n",
            "63/63 [==============================] - 0s 2ms/step - usermodel_0_compiled_loss: 1.1674 - usermodel_1_compiled_loss: 1.1405 - usermodel_2_compiled_loss: 1.1162\n",
            "Epoch 19/30\n",
            "63/63 [==============================] - 0s 2ms/step - usermodel_0_compiled_loss: 1.1548 - usermodel_1_compiled_loss: 1.1296 - usermodel_2_compiled_loss: 1.1064\n",
            "Epoch 20/30\n",
            "63/63 [==============================] - 0s 2ms/step - usermodel_0_compiled_loss: 1.1455 - usermodel_1_compiled_loss: 1.1217 - usermodel_2_compiled_loss: 1.0996\n",
            "Epoch 21/30\n",
            "63/63 [==============================] - 0s 2ms/step - usermodel_0_compiled_loss: 1.1351 - usermodel_1_compiled_loss: 1.1127 - usermodel_2_compiled_loss: 1.0915\n",
            "Epoch 22/30\n",
            "63/63 [==============================] - 0s 2ms/step - usermodel_0_compiled_loss: 1.1273 - usermodel_1_compiled_loss: 1.1061 - usermodel_2_compiled_loss: 1.0858\n",
            "Epoch 23/30\n",
            "63/63 [==============================] - 0s 3ms/step - usermodel_0_compiled_loss: 1.1192 - usermodel_1_compiled_loss: 1.0991 - usermodel_2_compiled_loss: 1.0795\n",
            "Epoch 24/30\n",
            "63/63 [==============================] - 0s 3ms/step - usermodel_0_compiled_loss: 1.1128 - usermodel_1_compiled_loss: 1.0939 - usermodel_2_compiled_loss: 1.0749\n",
            "Epoch 25/30\n",
            "63/63 [==============================] - 0s 2ms/step - usermodel_0_compiled_loss: 1.1055 - usermodel_1_compiled_loss: 1.0876 - usermodel_2_compiled_loss: 1.0692\n",
            "Epoch 26/30\n",
            "63/63 [==============================] - 0s 2ms/step - usermodel_0_compiled_loss: 1.1023 - usermodel_1_compiled_loss: 1.0853 - usermodel_2_compiled_loss: 1.0673\n",
            "Epoch 27/30\n",
            "63/63 [==============================] - 0s 2ms/step - usermodel_0_compiled_loss: 1.0969 - usermodel_1_compiled_loss: 1.0805 - usermodel_2_compiled_loss: 1.0633\n",
            "Epoch 28/30\n",
            "63/63 [==============================] - 0s 3ms/step - usermodel_0_compiled_loss: 1.0910 - usermodel_1_compiled_loss: 1.0753 - usermodel_2_compiled_loss: 1.0587\n",
            "Epoch 29/30\n",
            "63/63 [==============================] - 0s 3ms/step - usermodel_0_compiled_loss: 1.0856 - usermodel_1_compiled_loss: 1.0705 - usermodel_2_compiled_loss: 1.0545\n",
            "Epoch 30/30\n",
            "63/63 [==============================] - 0s 3ms/step - usermodel_0_compiled_loss: 1.0821 - usermodel_1_compiled_loss: 1.0676 - usermodel_2_compiled_loss: 1.0522\n"
          ]
        }
      ],
      "source": [
        "### Estimating model uncertainty with Capsa wrapping ###\n",
        "\n",
        "standard_dense_NN = create_dense_NN()\n",
        "# Wrap the dense network for epistemic uncertainty estimation with an Ensemble\n",
        "ensemble_NN = capsa.EnsembleWrapper(standard_dense_NN)\n",
        "\n",
        "# Build the model for regression, defining the loss function and optimizer\n",
        "ensemble_NN.compile(\n",
        "  optimizer=tf.keras.optimizers.Adam(learning_rate=3e-3),\n",
        "  loss=tf.keras.losses.MeanSquaredError(), # MSE loss for the regression task\n",
        ")\n",
        "\n",
        "# Train the wrapped model for 30 epochs.\n",
        "loss_history_ensemble = ensemble_NN.fit(x_train, y_train, epochs=30)\n",
        "\n",
        "# Call the uncertainty-aware model to generate outputs for the test data\n",
        "prediction = ensemble_NN(x_test)"
      ]
    },
    {
      "cell_type": "code",
      "execution_count": 11,
      "metadata": {
        "id": "eauNoKDOj_ZT",
        "colab": {
          "base_uri": "https://localhost:8080/",
          "height": 391
        },
        "outputId": "ec6969e0-7dcf-45c1-ac60-3946c03aa00e"
      },
      "outputs": [
        {
          "output_type": "execute_result",
          "data": {
            "text/plain": [
              "<matplotlib.legend.Legend at 0x7f1eee7eca90>"
            ]
          },
          "metadata": {},
          "execution_count": 11
        },
        {
          "output_type": "display_data",
          "data": {
            "text/plain": [
              "<Figure size 720x432 with 1 Axes>"
            ],
            "image/png": "[encoded data removed]"
          },
          "metadata": {
            "needs_background": "light"
          }
        }
      ],
      "source": [
        "# Capsa makes the epistemic uncertainty an attribute of the prediction!\n",
        "pred = np.array(prediction.y_hat).flatten()\n",
        "unc = np.array(prediction.epistemic).flatten()\n",
        "\n",
        "# Visualize the aleatoric uncertainty across the data space\n",
        "plt.figure(figsize=(10, 6))\n",
        "plt.scatter(x_train, y_train, s=1.5, label='train data')\n",
        "plt.plot(x_test, y_test, c='r', zorder=-1, label='ground truth')\n",
        "plt.fill_between(x_test.flatten(), pred-20*unc, pred+20*unc, color='b', alpha=0.2, label='epistemic')\n",
        "plt.legend()"
      ]
    },
    {
      "cell_type": "markdown",
      "metadata": {
        "id": "N4LMn2tLPBdg"
      },
      "source": [
        "#### **TODO: Estimating epistemic uncertainty**\n",
        "\n",
        "Write short (~1 sentence) answers to the questions below to complete the `TODO`s:\n",
        "\n",
        "1. For what values of $x$ is the epistemic uncertainty high or increasing suddenly?\n",
        "2. How does your answer in (1) relate to how the $x$ values are distributed (refer back to original plot)? Think about both the train and test data.\n",
        "3. How could you reduce the epistemic uncertainty in regions where it is high?"
      ]
    },
    {
      "cell_type": "markdown",
      "metadata": {
        "id": "CkpvkOL06jRd"
      },
      "source": [
        "# 1.6 Conclusion\n",
        "\n",
        "You've just analyzed the bias, aleatoric uncertainty, and epistemic uncertainty for your first risk-aware model! This is a task that data scientists do constantly to determine methods of improving their models and datasets.\n",
        "\n",
        "In the next part of the lab, you'll continue to build off of these concepts to study them in the context of facial detection systems: not only diagnosing issues of bias and uncertainty, but also developing solutions to *mitigate* these risks.\n",
        "\n",
        "![alt text](https://raw.githubusercontent.com/aamini/introtodeeplearning/2023/lab3/img/solutions_toy.png)"
      ]
    },
    {
      "cell_type": "code",
      "execution_count": null,
      "metadata": {
        "id": "nIpfPcpjlsKK"
      },
      "outputs": [],
      "source": []
    }
  ],
  "metadata": {
    "colab": {
      "provenance": []
    },
    "kernelspec": {
      "display_name": "Python 3",
      "name": "python3"
    },
    "language_info": {
      "name": "python"
    }
  },
  "nbformat": 4,
  "nbformat_minor": 0
}